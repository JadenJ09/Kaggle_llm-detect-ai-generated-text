{
 "cells": [
  {
   "cell_type": "markdown",
   "id": "f7eb26c5",
   "metadata": {
    "papermill": {
     "duration": 0.006939,
     "end_time": "2023-12-06T01:35:42.252266",
     "exception": false,
     "start_time": "2023-12-06T01:35:42.245327",
     "status": "completed"
    },
    "tags": []
   },
   "source": [
    "## 1. Setup and Data Loading"
   ]
  },
  {
   "cell_type": "code",
   "execution_count": 1,
   "id": "84b9a1b5",
   "metadata": {
    "_cell_guid": "b1076dfc-b9ad-4769-8c92-a6c4dae69d19",
    "_uuid": "8f2839f25d086af736a60e9eeb907d3b93b6e0e5",
    "execution": {
     "iopub.execute_input": "2023-12-06T01:35:42.269042Z",
     "iopub.status.busy": "2023-12-06T01:35:42.268630Z",
     "iopub.status.idle": "2023-12-06T01:35:46.939340Z",
     "shell.execute_reply": "2023-12-06T01:35:46.937781Z"
    },
    "papermill": {
     "duration": 4.68159,
     "end_time": "2023-12-06T01:35:46.942385",
     "exception": false,
     "start_time": "2023-12-06T01:35:42.260795",
     "status": "completed"
    },
    "tags": []
   },
   "outputs": [],
   "source": [
    "import string\n",
    "import re\n",
    "import numpy as np\n",
    "import pandas as pd\n",
    "from sklearn.linear_model import SGDClassifier, LogisticRegression\n",
    "from sklearn.ensemble import VotingClassifier\n",
    "from sklearn.naive_bayes import MultinomialNB\n",
    "from sklearn.feature_extraction.text import TfidfVectorizer\n",
    "\n",
    "# Load the training and test datasets\n",
    "train_df = pd.read_csv(\"/kaggle/input/daigt-v2-train-dataset/train_v2_drcat_02.csv\")\n",
    "test_df = pd.read_csv('/kaggle/input/llm-detect-ai-generated-text/test_essays.csv')"
   ]
  },
  {
   "cell_type": "markdown",
   "id": "238d3a9b",
   "metadata": {
    "papermill": {
     "duration": 0.00674,
     "end_time": "2023-12-06T01:35:46.956926",
     "exception": false,
     "start_time": "2023-12-06T01:35:46.950186",
     "status": "completed"
    },
    "tags": []
   },
   "source": [
    "### Data Preprocessing"
   ]
  },
  {
   "cell_type": "code",
   "execution_count": 2,
   "id": "323cfe9e",
   "metadata": {
    "execution": {
     "iopub.execute_input": "2023-12-06T01:35:46.971405Z",
     "iopub.status.busy": "2023-12-06T01:35:46.971017Z",
     "iopub.status.idle": "2023-12-06T01:35:46.977328Z",
     "shell.execute_reply": "2023-12-06T01:35:46.976196Z"
    },
    "papermill": {
     "duration": 0.016147,
     "end_time": "2023-12-06T01:35:46.979629",
     "exception": false,
     "start_time": "2023-12-06T01:35:46.963482",
     "status": "completed"
    },
    "tags": []
   },
   "outputs": [],
   "source": [
    "def remove_non_english_chars(text):\n",
    "    # Define the range of Unicode characters for English and some punctuation\n",
    "    en_chars = set(string.ascii_letters + string.digits + string.punctuation + ' ')\n",
    "    \n",
    "    # Use a regular expression to match all non-English characters and emojis\n",
    "    non_en_pattern = re.compile(f'[^{\" \".join(en_chars)}]')\n",
    "\n",
    "    # Substitute all non-English characters and emojis with an empty string\n",
    "    cleaned_text = non_en_pattern.sub('', text)\n",
    "    \n",
    "    return cleaned_text\n"
   ]
  },
  {
   "cell_type": "code",
   "execution_count": 3,
   "id": "b51edd24",
   "metadata": {
    "execution": {
     "iopub.execute_input": "2023-12-06T01:35:46.994582Z",
     "iopub.status.busy": "2023-12-06T01:35:46.994137Z",
     "iopub.status.idle": "2023-12-06T01:35:47.000530Z",
     "shell.execute_reply": "2023-12-06T01:35:46.999088Z"
    },
    "papermill": {
     "duration": 0.017108,
     "end_time": "2023-12-06T01:35:47.003271",
     "exception": false,
     "start_time": "2023-12-06T01:35:46.986163",
     "status": "completed"
    },
    "tags": []
   },
   "outputs": [],
   "source": [
    "seed = 202\n",
    "\n",
    "def seed_everything(seed=202):\n",
    "    import random\n",
    "    random.seed(seed)\n",
    "    np.random.seed(seed)\n",
    "\n",
    "seed_everything(seed)"
   ]
  },
  {
   "cell_type": "code",
   "execution_count": 4,
   "id": "d7fe9b90",
   "metadata": {
    "execution": {
     "iopub.execute_input": "2023-12-06T01:35:47.018261Z",
     "iopub.status.busy": "2023-12-06T01:35:47.017825Z",
     "iopub.status.idle": "2023-12-06T01:35:49.101077Z",
     "shell.execute_reply": "2023-12-06T01:35:49.099586Z"
    },
    "papermill": {
     "duration": 2.093587,
     "end_time": "2023-12-06T01:35:49.103509",
     "exception": false,
     "start_time": "2023-12-06T01:35:47.009922",
     "status": "completed"
    },
    "tags": []
   },
   "outputs": [
    {
     "name": "stdout",
     "output_type": "stream",
     "text": [
      "😮🕵😜手📅😕机🐟÷こ道必🙀一📧🛸🏽🌐🍭🤞ち🌨上🎸🧚🥑💚”🌞👋禁止集🙄í🎊响👯👍🍗🌏🍖�🤷🥯💅🔑に🎄💬は🏞💔🐳🐾😭🐰🌧📄🐸🛣影🚀🧐🇺🚔🇵🤣🍜🏜🍓🗣🎨👦💀🎮🎵📱♂す🌳🍕🎹п🚕🍴🌯🏨📷り🏰🎣💨с🌻🏻🤜🥘😠中👨📖🏼🍲💆📉🏔👂🎓🧭😘😎🥗🕺🇧🐭💤🚫👕📹🎠🌎🏏🙃💉“📦🎩🍎🐦🐴🥩□力🥲д💃司😒有ç😃🤩🌱🎾🥤🌽🙅🕹📊🥟о🌴🐒–‍🐧🏳\n"
     ]
    }
   ],
   "source": [
    "## credit @siddhvr\n",
    "not_persuade_df = train_df[train_df['source'] != 'persuade_corpus']\n",
    "persuade_df = train_df[train_df['source'] == 'persuade_corpus']\n",
    "sampled_persuade_df = persuade_df.sample(n=6000, random_state=42)\n",
    "\n",
    "# Testing idea from discussion with @nbroad about limited characters in human essays\n",
    "all_human = set(list(''.join(sampled_persuade_df.text.to_list())))\n",
    "other = set(list(''.join(not_persuade_df.text.to_list())))\n",
    "chars_to_remove = ''.join([x for x in other if x not in all_human])\n",
    "print(chars_to_remove)\n",
    "\n",
    "translation_table = str.maketrans('', '', chars_to_remove)\n",
    "\n",
    "def remove_chars(s):\n",
    "    return s.translate(translation_table)"
   ]
  },
  {
   "cell_type": "code",
   "execution_count": 5,
   "id": "750579db",
   "metadata": {
    "execution": {
     "iopub.execute_input": "2023-12-06T01:35:49.119048Z",
     "iopub.status.busy": "2023-12-06T01:35:49.118594Z",
     "iopub.status.idle": "2023-12-06T01:35:52.319371Z",
     "shell.execute_reply": "2023-12-06T01:35:52.318252Z"
    },
    "papermill": {
     "duration": 3.211642,
     "end_time": "2023-12-06T01:35:52.322056",
     "exception": false,
     "start_time": "2023-12-06T01:35:49.110414",
     "status": "completed"
    },
    "tags": []
   },
   "outputs": [],
   "source": [
    "# Apply a function for removing target chars\n",
    "train_df['text'] = train_df['text'].apply(remove_chars)"
   ]
  },
  {
   "cell_type": "code",
   "execution_count": 6,
   "id": "23b4d0a6",
   "metadata": {
    "execution": {
     "iopub.execute_input": "2023-12-06T01:35:52.337367Z",
     "iopub.status.busy": "2023-12-06T01:35:52.336953Z",
     "iopub.status.idle": "2023-12-06T01:35:52.467415Z",
     "shell.execute_reply": "2023-12-06T01:35:52.466329Z"
    },
    "papermill": {
     "duration": 0.141234,
     "end_time": "2023-12-06T01:35:52.470360",
     "exception": false,
     "start_time": "2023-12-06T01:35:52.329126",
     "status": "completed"
    },
    "tags": []
   },
   "outputs": [],
   "source": [
    "# Sample additional data if needed\n",
    "additional_data = train_df[train_df['label'] == 1].sample(8000)\n",
    "train_df = train_df[train_df.RDizzl3_seven == True]\n",
    "train_df = pd.concat([train_df, additional_data])\n",
    "\n",
    "# Clean and concatenate the text from both datasets\n",
    "train_df['text'] = train_df['text'].str.replace('\\n', '')\n",
    "test_df['text'] = test_df['text'].str.replace('\\n', '')\n",
    "combined_text = pd.concat([train_df['text'], test_df['text']], axis=0)"
   ]
  },
  {
   "cell_type": "markdown",
   "id": "573a07fb",
   "metadata": {
    "papermill": {
     "duration": 0.006309,
     "end_time": "2023-12-06T01:35:52.483493",
     "exception": false,
     "start_time": "2023-12-06T01:35:52.477184",
     "status": "completed"
    },
    "tags": []
   },
   "source": [
    "## 2. Feature Engineering"
   ]
  },
  {
   "cell_type": "code",
   "execution_count": 7,
   "id": "3d7de2bd",
   "metadata": {
    "execution": {
     "iopub.execute_input": "2023-12-06T01:35:52.498541Z",
     "iopub.status.busy": "2023-12-06T01:35:52.498098Z",
     "iopub.status.idle": "2023-12-06T01:36:19.039517Z",
     "shell.execute_reply": "2023-12-06T01:36:19.038270Z"
    },
    "papermill": {
     "duration": 26.552503,
     "end_time": "2023-12-06T01:36:19.042574",
     "exception": false,
     "start_time": "2023-12-06T01:35:52.490071",
     "status": "completed"
    },
    "tags": []
   },
   "outputs": [
    {
     "name": "stdout",
     "output_type": "stream",
     "text": [
      "CPU times: user 26.5 s, sys: 3.89 ms, total: 26.5 s\n",
      "Wall time: 26.5 s\n"
     ]
    }
   ],
   "source": [
    "%%time\n",
    "\n",
    "# Initialize TfidfVectorizer\n",
    "vectorizer = TfidfVectorizer(sublinear_tf=True,\n",
    "                             ngram_range=(3, 4), # So far, ngram_range=(3, 5) reached the best score\n",
    "                             tokenizer=lambda x: re.findall(r'[^\\W]+', x),\n",
    "                             token_pattern=None,\n",
    "                             strip_accents='unicode',\n",
    "                             )\n",
    "\n",
    "# # Fit the vectorizer on the combined text data\n",
    "# vectorizer.fit(combined_text)\n",
    "\n",
    "# Fit the vectorizer on the test text data\n",
    "vectorizer.fit(test_df['text'])\n",
    "\n",
    "# Transform the text data into features\n",
    "X_train = vectorizer.transform(train_df['text'])\n",
    "X_test = vectorizer.transform(test_df['text'])\n"
   ]
  },
  {
   "cell_type": "markdown",
   "id": "50bb44d8",
   "metadata": {
    "papermill": {
     "duration": 0.006469,
     "end_time": "2023-12-06T01:36:19.056167",
     "exception": false,
     "start_time": "2023-12-06T01:36:19.049698",
     "status": "completed"
    },
    "tags": []
   },
   "source": [
    "## 3. Model Training with Ensemble Learning"
   ]
  },
  {
   "cell_type": "code",
   "execution_count": 8,
   "id": "a8102040",
   "metadata": {
    "execution": {
     "iopub.execute_input": "2023-12-06T01:36:19.071887Z",
     "iopub.status.busy": "2023-12-06T01:36:19.071193Z",
     "iopub.status.idle": "2023-12-06T01:36:19.227659Z",
     "shell.execute_reply": "2023-12-06T01:36:19.226445Z"
    },
    "papermill": {
     "duration": 0.167365,
     "end_time": "2023-12-06T01:36:19.230293",
     "exception": false,
     "start_time": "2023-12-06T01:36:19.062928",
     "status": "completed"
    },
    "tags": []
   },
   "outputs": [
    {
     "name": "stdout",
     "output_type": "stream",
     "text": [
      "CPU times: user 100 ms, sys: 923 µs, total: 101 ms\n",
      "Wall time: 112 ms\n"
     ]
    },
    {
     "data": {
      "text/html": [
       "<style>#sk-container-id-1 {color: black;background-color: white;}#sk-container-id-1 pre{padding: 0;}#sk-container-id-1 div.sk-toggleable {background-color: white;}#sk-container-id-1 label.sk-toggleable__label {cursor: pointer;display: block;width: 100%;margin-bottom: 0;padding: 0.3em;box-sizing: border-box;text-align: center;}#sk-container-id-1 label.sk-toggleable__label-arrow:before {content: \"▸\";float: left;margin-right: 0.25em;color: #696969;}#sk-container-id-1 label.sk-toggleable__label-arrow:hover:before {color: black;}#sk-container-id-1 div.sk-estimator:hover label.sk-toggleable__label-arrow:before {color: black;}#sk-container-id-1 div.sk-toggleable__content {max-height: 0;max-width: 0;overflow: hidden;text-align: left;background-color: #f0f8ff;}#sk-container-id-1 div.sk-toggleable__content pre {margin: 0.2em;color: black;border-radius: 0.25em;background-color: #f0f8ff;}#sk-container-id-1 input.sk-toggleable__control:checked~div.sk-toggleable__content {max-height: 200px;max-width: 100%;overflow: auto;}#sk-container-id-1 input.sk-toggleable__control:checked~label.sk-toggleable__label-arrow:before {content: \"▾\";}#sk-container-id-1 div.sk-estimator input.sk-toggleable__control:checked~label.sk-toggleable__label {background-color: #d4ebff;}#sk-container-id-1 div.sk-label input.sk-toggleable__control:checked~label.sk-toggleable__label {background-color: #d4ebff;}#sk-container-id-1 input.sk-hidden--visually {border: 0;clip: rect(1px 1px 1px 1px);clip: rect(1px, 1px, 1px, 1px);height: 1px;margin: -1px;overflow: hidden;padding: 0;position: absolute;width: 1px;}#sk-container-id-1 div.sk-estimator {font-family: monospace;background-color: #f0f8ff;border: 1px dotted black;border-radius: 0.25em;box-sizing: border-box;margin-bottom: 0.5em;}#sk-container-id-1 div.sk-estimator:hover {background-color: #d4ebff;}#sk-container-id-1 div.sk-parallel-item::after {content: \"\";width: 100%;border-bottom: 1px solid gray;flex-grow: 1;}#sk-container-id-1 div.sk-label:hover label.sk-toggleable__label {background-color: #d4ebff;}#sk-container-id-1 div.sk-serial::before {content: \"\";position: absolute;border-left: 1px solid gray;box-sizing: border-box;top: 0;bottom: 0;left: 50%;z-index: 0;}#sk-container-id-1 div.sk-serial {display: flex;flex-direction: column;align-items: center;background-color: white;padding-right: 0.2em;padding-left: 0.2em;position: relative;}#sk-container-id-1 div.sk-item {position: relative;z-index: 1;}#sk-container-id-1 div.sk-parallel {display: flex;align-items: stretch;justify-content: center;background-color: white;position: relative;}#sk-container-id-1 div.sk-item::before, #sk-container-id-1 div.sk-parallel-item::before {content: \"\";position: absolute;border-left: 1px solid gray;box-sizing: border-box;top: 0;bottom: 0;left: 50%;z-index: -1;}#sk-container-id-1 div.sk-parallel-item {display: flex;flex-direction: column;z-index: 1;position: relative;background-color: white;}#sk-container-id-1 div.sk-parallel-item:first-child::after {align-self: flex-end;width: 50%;}#sk-container-id-1 div.sk-parallel-item:last-child::after {align-self: flex-start;width: 50%;}#sk-container-id-1 div.sk-parallel-item:only-child::after {width: 0;}#sk-container-id-1 div.sk-dashed-wrapped {border: 1px dashed gray;margin: 0 0.4em 0.5em 0.4em;box-sizing: border-box;padding-bottom: 0.4em;background-color: white;}#sk-container-id-1 div.sk-label label {font-family: monospace;font-weight: bold;display: inline-block;line-height: 1.2em;}#sk-container-id-1 div.sk-label-container {text-align: center;}#sk-container-id-1 div.sk-container {/* jupyter's `normalize.less` sets `[hidden] { display: none; }` but bootstrap.min.css set `[hidden] { display: none !important; }` so we also need the `!important` here to be able to override the default hidden behavior on the sphinx rendered scikit-learn.org. See: https://github.com/scikit-learn/scikit-learn/issues/21755 */display: inline-block !important;position: relative;}#sk-container-id-1 div.sk-text-repr-fallback {display: none;}</style><div id=\"sk-container-id-1\" class=\"sk-top-container\"><div class=\"sk-text-repr-fallback\"><pre>VotingClassifier(estimators=[(&#x27;mnb1&#x27;, MultinomialNB(alpha=0.02)),\n",
       "                             (&#x27;lr&#x27;, LogisticRegression()),\n",
       "                             (&#x27;sgd1&#x27;,\n",
       "                              SGDClassifier(loss=&#x27;modified_huber&#x27;,\n",
       "                                            max_iter=10000)),\n",
       "                             (&#x27;sgd2&#x27;,\n",
       "                              SGDClassifier(class_weight=&#x27;balanced&#x27;,\n",
       "                                            loss=&#x27;modified_huber&#x27;,\n",
       "                                            max_iter=10000, tol=0.0005)),\n",
       "                             (&#x27;sgd3&#x27;,\n",
       "                              SGDClassifier(early_stopping=True,\n",
       "                                            loss=&#x27;modified_huber&#x27;,\n",
       "                                            max_iter=15000, tol=0.0003))],\n",
       "                 voting=&#x27;soft&#x27;, weights=[0.2, 0.2, 0.2, 0.2, 0.2])</pre><b>In a Jupyter environment, please rerun this cell to show the HTML representation or trust the notebook. <br />On GitHub, the HTML representation is unable to render, please try loading this page with nbviewer.org.</b></div><div class=\"sk-container\" hidden><div class=\"sk-item sk-dashed-wrapped\"><div class=\"sk-label-container\"><div class=\"sk-label sk-toggleable\"><input class=\"sk-toggleable__control sk-hidden--visually\" id=\"sk-estimator-id-1\" type=\"checkbox\" ><label for=\"sk-estimator-id-1\" class=\"sk-toggleable__label sk-toggleable__label-arrow\">VotingClassifier</label><div class=\"sk-toggleable__content\"><pre>VotingClassifier(estimators=[(&#x27;mnb1&#x27;, MultinomialNB(alpha=0.02)),\n",
       "                             (&#x27;lr&#x27;, LogisticRegression()),\n",
       "                             (&#x27;sgd1&#x27;,\n",
       "                              SGDClassifier(loss=&#x27;modified_huber&#x27;,\n",
       "                                            max_iter=10000)),\n",
       "                             (&#x27;sgd2&#x27;,\n",
       "                              SGDClassifier(class_weight=&#x27;balanced&#x27;,\n",
       "                                            loss=&#x27;modified_huber&#x27;,\n",
       "                                            max_iter=10000, tol=0.0005)),\n",
       "                             (&#x27;sgd3&#x27;,\n",
       "                              SGDClassifier(early_stopping=True,\n",
       "                                            loss=&#x27;modified_huber&#x27;,\n",
       "                                            max_iter=15000, tol=0.0003))],\n",
       "                 voting=&#x27;soft&#x27;, weights=[0.2, 0.2, 0.2, 0.2, 0.2])</pre></div></div></div><div class=\"sk-parallel\"><div class=\"sk-parallel-item\"><div class=\"sk-item\"><div class=\"sk-label-container\"><div class=\"sk-label sk-toggleable\"><label>mnb1</label></div></div><div class=\"sk-serial\"><div class=\"sk-item\"><div class=\"sk-estimator sk-toggleable\"><input class=\"sk-toggleable__control sk-hidden--visually\" id=\"sk-estimator-id-2\" type=\"checkbox\" ><label for=\"sk-estimator-id-2\" class=\"sk-toggleable__label sk-toggleable__label-arrow\">MultinomialNB</label><div class=\"sk-toggleable__content\"><pre>MultinomialNB(alpha=0.02)</pre></div></div></div></div></div></div><div class=\"sk-parallel-item\"><div class=\"sk-item\"><div class=\"sk-label-container\"><div class=\"sk-label sk-toggleable\"><label>lr</label></div></div><div class=\"sk-serial\"><div class=\"sk-item\"><div class=\"sk-estimator sk-toggleable\"><input class=\"sk-toggleable__control sk-hidden--visually\" id=\"sk-estimator-id-3\" type=\"checkbox\" ><label for=\"sk-estimator-id-3\" class=\"sk-toggleable__label sk-toggleable__label-arrow\">LogisticRegression</label><div class=\"sk-toggleable__content\"><pre>LogisticRegression()</pre></div></div></div></div></div></div><div class=\"sk-parallel-item\"><div class=\"sk-item\"><div class=\"sk-label-container\"><div class=\"sk-label sk-toggleable\"><label>sgd1</label></div></div><div class=\"sk-serial\"><div class=\"sk-item\"><div class=\"sk-estimator sk-toggleable\"><input class=\"sk-toggleable__control sk-hidden--visually\" id=\"sk-estimator-id-4\" type=\"checkbox\" ><label for=\"sk-estimator-id-4\" class=\"sk-toggleable__label sk-toggleable__label-arrow\">SGDClassifier</label><div class=\"sk-toggleable__content\"><pre>SGDClassifier(loss=&#x27;modified_huber&#x27;, max_iter=10000)</pre></div></div></div></div></div></div><div class=\"sk-parallel-item\"><div class=\"sk-item\"><div class=\"sk-label-container\"><div class=\"sk-label sk-toggleable\"><label>sgd2</label></div></div><div class=\"sk-serial\"><div class=\"sk-item\"><div class=\"sk-estimator sk-toggleable\"><input class=\"sk-toggleable__control sk-hidden--visually\" id=\"sk-estimator-id-5\" type=\"checkbox\" ><label for=\"sk-estimator-id-5\" class=\"sk-toggleable__label sk-toggleable__label-arrow\">SGDClassifier</label><div class=\"sk-toggleable__content\"><pre>SGDClassifier(class_weight=&#x27;balanced&#x27;, loss=&#x27;modified_huber&#x27;, max_iter=10000,\n",
       "              tol=0.0005)</pre></div></div></div></div></div></div><div class=\"sk-parallel-item\"><div class=\"sk-item\"><div class=\"sk-label-container\"><div class=\"sk-label sk-toggleable\"><label>sgd3</label></div></div><div class=\"sk-serial\"><div class=\"sk-item\"><div class=\"sk-estimator sk-toggleable\"><input class=\"sk-toggleable__control sk-hidden--visually\" id=\"sk-estimator-id-6\" type=\"checkbox\" ><label for=\"sk-estimator-id-6\" class=\"sk-toggleable__label sk-toggleable__label-arrow\">SGDClassifier</label><div class=\"sk-toggleable__content\"><pre>SGDClassifier(early_stopping=True, loss=&#x27;modified_huber&#x27;, max_iter=15000,\n",
       "              tol=0.0003)</pre></div></div></div></div></div></div></div></div></div></div>"
      ],
      "text/plain": [
       "VotingClassifier(estimators=[('mnb1', MultinomialNB(alpha=0.02)),\n",
       "                             ('lr', LogisticRegression()),\n",
       "                             ('sgd1',\n",
       "                              SGDClassifier(loss='modified_huber',\n",
       "                                            max_iter=10000)),\n",
       "                             ('sgd2',\n",
       "                              SGDClassifier(class_weight='balanced',\n",
       "                                            loss='modified_huber',\n",
       "                                            max_iter=10000, tol=0.0005)),\n",
       "                             ('sgd3',\n",
       "                              SGDClassifier(early_stopping=True,\n",
       "                                            loss='modified_huber',\n",
       "                                            max_iter=15000, tol=0.0003))],\n",
       "                 voting='soft', weights=[0.2, 0.2, 0.2, 0.2, 0.2])"
      ]
     },
     "execution_count": 8,
     "metadata": {},
     "output_type": "execute_result"
    }
   ],
   "source": [
    "%%time\n",
    "\n",
    "# Define the ensemble model with multiple classifiers\n",
    "mnb_model1 = MultinomialNB(alpha=0.02)\n",
    "lr_model1 = LogisticRegression()\n",
    "sgd_model1 = SGDClassifier(max_iter=10000, tol=1e-3, loss=\"modified_huber\")   \n",
    "sgd_model2 = SGDClassifier(max_iter=10000, tol=5e-4, loss=\"modified_huber\", class_weight=\"balanced\") \n",
    "sgd_model3 = SGDClassifier(max_iter=15000, tol=3e-4, loss=\"modified_huber\", early_stopping=True)\n",
    "\n",
    "# Combine classifiers into a VotingClassifier\n",
    "ensemble = VotingClassifier(estimators=[\n",
    "    ('mnb1', mnb_model1),\n",
    "    ('lr', lr_model1),\n",
    "    ('sgd1', sgd_model1), \n",
    "    ('sgd2', sgd_model2),\n",
    "    ('sgd3', sgd_model3)\n",
    "],  weights=[0.2, 0.2, 0.2, 0.2, 0.2], voting='soft')\n",
    "\n",
    "# Train the ensemble model\n",
    "ensemble.fit(X_train, train_df['label'])\n"
   ]
  },
  {
   "cell_type": "markdown",
   "id": "e055b236",
   "metadata": {
    "papermill": {
     "duration": 0.008199,
     "end_time": "2023-12-06T01:36:19.247472",
     "exception": false,
     "start_time": "2023-12-06T01:36:19.239273",
     "status": "completed"
    },
    "tags": []
   },
   "source": [
    "## 4. Prediction and Submission File Creation"
   ]
  },
  {
   "cell_type": "code",
   "execution_count": 9,
   "id": "3dd215cb",
   "metadata": {
    "execution": {
     "iopub.execute_input": "2023-12-06T01:36:19.265799Z",
     "iopub.status.busy": "2023-12-06T01:36:19.265330Z",
     "iopub.status.idle": "2023-12-06T01:36:19.277979Z",
     "shell.execute_reply": "2023-12-06T01:36:19.276790Z"
    },
    "papermill": {
     "duration": 0.02543,
     "end_time": "2023-12-06T01:36:19.280537",
     "exception": false,
     "start_time": "2023-12-06T01:36:19.255107",
     "status": "completed"
    },
    "tags": []
   },
   "outputs": [],
   "source": [
    "# Generate predictions for the test set\n",
    "predictions = ensemble.predict_proba(X_test)[:, 1]\n",
    "\n",
    "# Create a DataFrame with the test IDs and their corresponding predicted probabilities\n",
    "submission_df = pd.DataFrame({\n",
    "    'id': test_df['id'],\n",
    "    'generated': predictions\n",
    "})\n",
    "\n",
    "# Save the submission file\n",
    "submission_df.to_csv('/kaggle/working/submission.csv', index=False)\n"
   ]
  },
  {
   "cell_type": "code",
   "execution_count": 10,
   "id": "c0d67f94",
   "metadata": {
    "execution": {
     "iopub.execute_input": "2023-12-06T01:36:19.297416Z",
     "iopub.status.busy": "2023-12-06T01:36:19.296976Z",
     "iopub.status.idle": "2023-12-06T01:36:19.310459Z",
     "shell.execute_reply": "2023-12-06T01:36:19.309490Z"
    },
    "papermill": {
     "duration": 0.024924,
     "end_time": "2023-12-06T01:36:19.312890",
     "exception": false,
     "start_time": "2023-12-06T01:36:19.287966",
     "status": "completed"
    },
    "tags": []
   },
   "outputs": [
    {
     "data": {
      "text/html": [
       "<div>\n",
       "<style scoped>\n",
       "    .dataframe tbody tr th:only-of-type {\n",
       "        vertical-align: middle;\n",
       "    }\n",
       "\n",
       "    .dataframe tbody tr th {\n",
       "        vertical-align: top;\n",
       "    }\n",
       "\n",
       "    .dataframe thead th {\n",
       "        text-align: right;\n",
       "    }\n",
       "</style>\n",
       "<table border=\"1\" class=\"dataframe\">\n",
       "  <thead>\n",
       "    <tr style=\"text-align: right;\">\n",
       "      <th></th>\n",
       "      <th>id</th>\n",
       "      <th>generated</th>\n",
       "    </tr>\n",
       "  </thead>\n",
       "  <tbody>\n",
       "    <tr>\n",
       "      <th>0</th>\n",
       "      <td>0000aaaa</td>\n",
       "      <td>0.498832</td>\n",
       "    </tr>\n",
       "    <tr>\n",
       "      <th>1</th>\n",
       "      <td>1111bbbb</td>\n",
       "      <td>0.498832</td>\n",
       "    </tr>\n",
       "    <tr>\n",
       "      <th>2</th>\n",
       "      <td>2222cccc</td>\n",
       "      <td>0.498832</td>\n",
       "    </tr>\n",
       "  </tbody>\n",
       "</table>\n",
       "</div>"
      ],
      "text/plain": [
       "         id  generated\n",
       "0  0000aaaa   0.498832\n",
       "1  1111bbbb   0.498832\n",
       "2  2222cccc   0.498832"
      ]
     },
     "execution_count": 10,
     "metadata": {},
     "output_type": "execute_result"
    }
   ],
   "source": [
    "submission_df"
   ]
  },
  {
   "cell_type": "markdown",
   "id": "d56607f9",
   "metadata": {
    "papermill": {
     "duration": 0.007378,
     "end_time": "2023-12-06T01:36:19.327897",
     "exception": false,
     "start_time": "2023-12-06T01:36:19.320519",
     "status": "completed"
    },
    "tags": []
   },
   "source": [
    "## 5. Grid Search for Hyperparameter Tuning(Optional)"
   ]
  },
  {
   "cell_type": "code",
   "execution_count": 11,
   "id": "6774212c",
   "metadata": {
    "execution": {
     "iopub.execute_input": "2023-12-06T01:36:19.345760Z",
     "iopub.status.busy": "2023-12-06T01:36:19.345057Z",
     "iopub.status.idle": "2023-12-06T01:36:19.350216Z",
     "shell.execute_reply": "2023-12-06T01:36:19.349404Z"
    },
    "papermill": {
     "duration": 0.016714,
     "end_time": "2023-12-06T01:36:19.352548",
     "exception": false,
     "start_time": "2023-12-06T01:36:19.335834",
     "status": "completed"
    },
    "tags": []
   },
   "outputs": [],
   "source": [
    "# from sklearn.metrics import make_scorer, roc_auc_score\n",
    "# from sklearn.model_selection import GridSearchCV\n",
    "\n",
    "# # Apply GridSearch\n",
    "# isGridSearch = True  \n",
    "# if isGridSearch:\n",
    "#     param_grid = {'weights': [(0.3, 0.4, 0.3)]}  # Example weights, expand as needed\n",
    "#     scorer = make_scorer(roc_auc_score)\n",
    "\n",
    "#     grid_search = GridSearchCV(estimator=ensemble, param_grid=param_grid, scoring=scorer, cv=7)\n",
    "#     grid_search.fit(X_train, train_df['label'])\n",
    "\n",
    "#     # Get the best weights\n",
    "#     best_weights = grid_search.best_params_['weights']\n",
    "#     print(f\"Best Weights: {best_weights}\")\n",
    "\n",
    "#     # Use the best weights to make predictions\n",
    "#     ensemble.set_params(weights=best_weights)\n",
    "#     ensemble.fit(X_train, train_df['label'])\n",
    "#     predictions = ensemble.predict_proba(X_test)[:, 1]\n",
    "    \n",
    "#     # Update submission DataFrame and save again\n",
    "#     submission_df = pd.DataFrame({\n",
    "#     'id': test_df['id'],\n",
    "#     'generated': predictions\n",
    "# })\n",
    "    \n",
    "#     # Save the submission file\n",
    "#     submission_df.to_csv('/kaggle/working/submission.csv', index=False)\n"
   ]
  },
  {
   "cell_type": "code",
   "execution_count": 12,
   "id": "12b01c5a",
   "metadata": {
    "execution": {
     "iopub.execute_input": "2023-12-06T01:36:19.370682Z",
     "iopub.status.busy": "2023-12-06T01:36:19.369957Z",
     "iopub.status.idle": "2023-12-06T01:36:19.373921Z",
     "shell.execute_reply": "2023-12-06T01:36:19.373101Z"
    },
    "papermill": {
     "duration": 0.015841,
     "end_time": "2023-12-06T01:36:19.376531",
     "exception": false,
     "start_time": "2023-12-06T01:36:19.360690",
     "status": "completed"
    },
    "tags": []
   },
   "outputs": [],
   "source": [
    "# submission_df"
   ]
  },
  {
   "cell_type": "code",
   "execution_count": null,
   "id": "5d299dcb",
   "metadata": {
    "papermill": {
     "duration": 0.007207,
     "end_time": "2023-12-06T01:36:19.391339",
     "exception": false,
     "start_time": "2023-12-06T01:36:19.384132",
     "status": "completed"
    },
    "tags": []
   },
   "outputs": [],
   "source": []
  }
 ],
 "metadata": {
  "kaggle": {
   "accelerator": "none",
   "dataSources": [
    {
     "databundleVersionId": 6888007,
     "sourceId": 61542,
     "sourceType": "competition"
    },
    {
     "datasetId": 4005256,
     "sourceId": 6977472,
     "sourceType": "datasetVersion"
    }
   ],
   "dockerImageVersionId": 30588,
   "isGpuEnabled": false,
   "isInternetEnabled": false,
   "language": "python",
   "sourceType": "notebook"
  },
  "kernelspec": {
   "display_name": "Python 3",
   "language": "python",
   "name": "python3"
  },
  "language_info": {
   "codemirror_mode": {
    "name": "ipython",
    "version": 3
   },
   "file_extension": ".py",
   "mimetype": "text/x-python",
   "name": "python",
   "nbconvert_exporter": "python",
   "pygments_lexer": "ipython3",
   "version": "3.10.12"
  },
  "papermill": {
   "default_parameters": {},
   "duration": 41.523468,
   "end_time": "2023-12-06T01:36:20.121088",
   "environment_variables": {},
   "exception": null,
   "input_path": "__notebook__.ipynb",
   "output_path": "__notebook__.ipynb",
   "parameters": {},
   "start_time": "2023-12-06T01:35:38.597620",
   "version": "2.4.0"
  }
 },
 "nbformat": 4,
 "nbformat_minor": 5
}
